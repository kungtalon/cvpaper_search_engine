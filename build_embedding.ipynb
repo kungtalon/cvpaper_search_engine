{
 "cells": [
  {
   "cell_type": "code",
   "execution_count": 88,
   "metadata": {},
   "outputs": [],
   "source": [
    "import re\n",
    "import nltk\n",
    "import numpy as np\n",
    "import pandas as pd\n",
    "import pickle as pkl\n",
    "from collections import defaultdict\n",
    "from gensim.models import Word2Vec\n",
    "from functools import reduce\n",
    "from nltk.tokenize import RegexpTokenizer\n",
    "from nltk.corpus import stopwords\n",
    "from nltk.stem import PorterStemmer\n",
    "from annotation import load_df_pickle"
   ]
  },
  {
   "cell_type": "code",
   "execution_count": 2,
   "metadata": {},
   "outputs": [],
   "source": [
    "tokenizer = RegexpTokenizer(r'\\w+')\n",
    "ps = PorterStemmer()"
   ]
  },
  {
   "cell_type": "code",
   "execution_count": 3,
   "metadata": {},
   "outputs": [
    {
     "name": "stdout",
     "output_type": "stream",
     "text": [
      "dataframe loaded, columns:  Index(['docno', 'conference', 'year', 'workshop', 'title', 'authors',\n",
      "       'pdf_link', 'arxiv_link', 'supp_link', 'abstract', 'subsections'],\n",
      "      dtype='object')\n"
     ]
    }
   ],
   "source": [
    "data = load_df_pickle('./cleandatanew.pkl')\n",
    "data = data.reset_index().drop('index', axis=1)\n",
    "data['subsections'] = data['subsections'].apply(lambda x: x.replace(';', ' '))\n",
    "data = data[['docno', 'title', 'abstract', 'subsections']]"
   ]
  },
  {
   "cell_type": "code",
   "execution_count": 4,
   "metadata": {},
   "outputs": [],
   "source": [
    "contractions_dict = { \"ain't\": \"are not\",\"'s\":\" is\",\"aren't\": \"are not\",\"can't\": \"can not\",\"can't've\": \"cannot have\",\n",
    "\"'cause\": \"because\",\"could've\": \"could have\",\"couldn't\": \"could not\",\"couldn't've\": \"could not have\",\n",
    "\"didn't\": \"did not\",\"doesn't\": \"does not\",\"don't\": \"do not\",\"hadn't\": \"had not\",\"hadn't've\": \"had not have\",\n",
    "\"hasn't\": \"has not\",\"haven't\": \"have not\",\"he'd\": \"he would\",\"he'd've\": \"he would have\",\"he'll\": \"he will\",\n",
    "\"he'll've\": \"he will have\",\"how'd\": \"how did\",\"how'd'y\": \"how do you\",\"how'll\": \"how will\",\"i'd\": \"i would\",\n",
    "\"i'd've\": \"i would have\",\"i'll\": \"i will\",\"i'll've\": \"i will have\",\"i'm\": \"i am\",\"i've\": \"i have\",\n",
    "\"isn't\": \"is not\",\"it'd\": \"it would\",\"it'd've\": \"it would have\",\"it'll\": \"it will\",\"it'll've\": \"it will have\",\n",
    "\"let's\": \"let us\",\"ma'am\": \"madam\",\"mayn't\": \"may not\",\"might've\": \"might have\",\"mightn't\": \"might not\",\n",
    "\"mightn't've\": \"might not have\",\"must've\": \"must have\",\"mustn't\": \"must not\",\"mustn't've\": \"must not have\",\n",
    "\"needn't\": \"need not\",\"needn't've\": \"need not have\",\"o'clock\": \"of the clock\",\"oughtn't\": \"ought not\",\n",
    "\"oughtn't've\": \"ought not have\",\"shan't\": \"shall not\",\"sha'n't\": \"shall not\",\n",
    "\"shan't've\": \"shall not have\",\"she'd\": \"she would\",\"she'd've\": \"she would have\",\"she'll\": \"she will\",\n",
    "\"she'll've\": \"she will have\",\"should've\": \"should have\",\"shouldn't\": \"should not\",\n",
    "\"shouldn't've\": \"should not have\",\"so've\": \"so have\",\"that'd\": \"that would\",\"that'd've\": \"that would have\",\n",
    "\"there'd\": \"there would\",\"there'd've\": \"there would have\",\n",
    "\"they'd\": \"they would\",\"they'd've\": \"they would have\",\"they'll\": \"they will\",\"they'll've\": \"they will have\",\n",
    "\"they're\": \"they are\",\"they've\": \"they have\",\"to've\": \"to have\",\"wasn't\": \"was not\",\"we'd\": \"we would\",\n",
    "\"we'd've\": \"we would have\",\"we'll\": \"we will\",\"we'll've\": \"we will have\",\"we're\": \"we are\",\"we've\": \"we have\",\n",
    "\"weren't\": \"were not\",\"what'll\": \"what will\",\"what'll've\": \"what will have\",\"what're\": \"what are\",\n",
    "\"what've\": \"what have\",\"when've\": \"when have\",\"where'd\": \"where did\",\n",
    "\"where've\": \"where have\",\"who'll\": \"who will\",\"who'll've\": \"who will have\",\"who've\": \"who have\",\n",
    "\"why've\": \"why have\",\"will've\": \"will have\",\"won't\": \"will not\",\"won't've\": \"will not have\",\n",
    "\"would've\": \"would have\",\"wouldn't\": \"would not\",\"wouldn't've\": \"would not have\",\"y'all\": \"you all\",\n",
    "\"y'all'd\": \"you all would\",\"y'all'd've\": \"you all would have\",\"y'all're\": \"you all are\",\"y'all've\": \"you all have\",\n",
    "\"you'd\": \"you would\",\"you'd've\": \"you would have\",\"you'll\": \"you will\",\"you'll've\": \"you will have\",\n",
    "\"you're\": \"you are\",\"you've\": \"you have\"}\n",
    "\n",
    "contractions_re = re.compile('(%s)' % '|'.join(contractions_dict.keys()))\n",
    "\n",
    "# Function for expanding contractions\n",
    "def expand_contractions(text,contractions_dict=contractions_dict):\n",
    "    def replace(match):\n",
    "        return contractions_dict[match.group(0)]\n",
    "    return contractions_re.sub(replace, text)"
   ]
  },
  {
   "cell_type": "code",
   "execution_count": 5,
   "metadata": {},
   "outputs": [
    {
     "data": {
      "text/plain": [
       "0        acknowledgements architectural details ilsvrc ...\n",
       "1        introduction related work bilateral filtering ...\n",
       "2        introduction related work fast clustering on b...\n",
       "3        introduction related work incremental learning...\n",
       "4        introduction supervised discrete hashing appro...\n",
       "                               ...                        \n",
       "15296    introduction related works zero-shot learning ...\n",
       "15297    introduction our contributions problem related...\n",
       "15298    introduction related work proposed method expe...\n",
       "15299    introduction related work methodology gcn trai...\n",
       "15300    introduction related works human motion predic...\n",
       "Name: subsections, Length: 15301, dtype: object"
      ]
     },
     "execution_count": 5,
     "metadata": {},
     "output_type": "execute_result"
    }
   ],
   "source": [
    "# preprocessing\n",
    "# clean subsections\n",
    "data['subsections']"
   ]
  },
  {
   "cell_type": "code",
   "execution_count": 6,
   "metadata": {},
   "outputs": [],
   "source": [
    "stops = set(stopwords.words('english'))\n",
    "data['subsections_token'] = data['subsections'].apply(lambda s: [ps.stem(t) for t in tokenizer.tokenize(s) if t not in stops])"
   ]
  },
  {
   "cell_type": "code",
   "execution_count": 7,
   "metadata": {},
   "outputs": [],
   "source": [
    "df = defaultdict(int)\n",
    "for i in range(len(data)):\n",
    "    for t in set(data.loc[i, 'subsections_token']):\n",
    "        df[t] += 1"
   ]
  },
  {
   "cell_type": "code",
   "execution_count": 8,
   "metadata": {},
   "outputs": [],
   "source": [
    "sub_stops = set(map(lambda x: x[1], sorted([[v,k] for k, v in df.items()], reverse=True)[:15]))\n",
    "data['subsections_token'] = data['subsections_token'].apply(lambda l: [t for t in l if t not in sub_stops])"
   ]
  },
  {
   "cell_type": "code",
   "execution_count": 9,
   "metadata": {},
   "outputs": [
    {
     "data": {
      "text/plain": [
       "0        [acknowledg, architectur, ilsvrc, 2014, classi...\n",
       "1        [bilater, filter, guid, filter, geodes, filter...\n",
       "2        [fast, cluster, binari, hash, code, k, mean, h...\n",
       "3        [increment, learn, framework, background, larg...\n",
       "4        [supervis, discret, hash, approxim, bi, nonlin...\n",
       "                               ...                        \n",
       "15296    [zero, shot, learn, contrast, learn, propos, a...\n",
       "15297    [contribut, problem, convolut, neural, network...\n",
       "15298    [propos, sampl, graph, construct, graph, lapla...\n",
       "15299    [methodolog, gcn, gcn, predict, methodolog, gc...\n",
       "15300    [human, motion, predict, graph, represent, lea...\n",
       "Name: subsections_token, Length: 15301, dtype: object"
      ]
     },
     "execution_count": 9,
     "metadata": {},
     "output_type": "execute_result"
    }
   ],
   "source": [
    "data['subsections_token']"
   ]
  },
  {
   "cell_type": "code",
   "execution_count": 71,
   "metadata": {},
   "outputs": [],
   "source": [
    "# delete stop words\n",
    "# tokenize\n",
    "# remove pure numbers\n",
    "stops = set(stopwords.words('english'))\n",
    "data['title_token'] = data['title'].apply(lambda s: [ps.stem(t) for t in tokenizer.tokenize(s) if t not in stops])\n",
    "pure_num = re.compile('\\d+')\n",
    "data['abstract_token'] = data['abstract'].apply(lambda s: [ps.stem(t) for t in tokenizer.tokenize(s) if t not in stops and re.match(pure_num, t) is None])"
   ]
  },
  {
   "cell_type": "code",
   "execution_count": 72,
   "metadata": {},
   "outputs": [],
   "source": [
    "abstract_sent_token = data['abstract'].apply(nltk.sent_tokenize).apply(pd.Series).unstack().reset_index(drop=True).dropna()"
   ]
  },
  {
   "cell_type": "code",
   "execution_count": 73,
   "metadata": {},
   "outputs": [],
   "source": [
    "abstract_sent_token = abstract_sent_token.apply(lambda s: [ps.stem(t) for t in tokenizer.tokenize(s) if t not in stops and re.match(pure_num, t) is None])"
   ]
  },
  {
   "cell_type": "code",
   "execution_count": 74,
   "metadata": {},
   "outputs": [
    {
     "data": {
      "text/plain": [
       "0         [we, propos, deep, convolut, neural, network, ...\n",
       "1         [in, paper, propos, propag, filter, novel, ima...\n",
       "2         [thi, paper, address, problem, cluster, larg, ...\n",
       "3         [over, last, sever, year, shown, imag, base, o...\n",
       "4         [recent, learn, base, hash, techniqu, attract,...\n",
       "                                ...                        \n",
       "243481    [we, examin, small, exampl, use, procedur, ana...\n",
       "246906                                              [intel]\n",
       "252381    [second, real, time, semant, segment, exampl, ...\n",
       "252398    [also, result, better, filter, scheme, vs, vim...\n",
       "253415    [notabl, achiev, place, public, leaderboard, s...\n",
       "Length: 115058, dtype: object"
      ]
     },
     "execution_count": 74,
     "metadata": {},
     "output_type": "execute_result"
    }
   ],
   "source": [
    "abstract_sent_token"
   ]
  },
  {
   "cell_type": "code",
   "execution_count": 76,
   "metadata": {},
   "outputs": [],
   "source": [
    "corpus = list(abstract_sent_token) + list(data['subsections_token']) + list(data['title_token'])\n",
    "with open('corpus.pkl', 'wb') as f:\n",
    "    pkl.dump(corpus, f)"
   ]
  },
  {
   "cell_type": "code",
   "execution_count": 78,
   "metadata": {},
   "outputs": [
    {
     "data": {
      "text/plain": [
       "145660"
      ]
     },
     "execution_count": 78,
     "metadata": {},
     "output_type": "execute_result"
    }
   ],
   "source": [
    "with open('corpus.pkl', 'rb') as f:\n",
    "    corpus = pkl.load(f)\n",
    "len(corpus)"
   ]
  },
  {
   "cell_type": "code",
   "execution_count": 93,
   "metadata": {},
   "outputs": [],
   "source": [
    "model = Word2Vec(sentences=corpus, vector_size=128, window=5, min_count=1, workers=4, epochs=10)"
   ]
  },
  {
   "cell_type": "code",
   "execution_count": 94,
   "metadata": {},
   "outputs": [],
   "source": [
    "model.wv.save('word2vec.wv')"
   ]
  },
  {
   "cell_type": "code",
   "execution_count": 95,
   "metadata": {},
   "outputs": [],
   "source": [
    "wv = model.wv"
   ]
  },
  {
   "cell_type": "code",
   "execution_count": 107,
   "metadata": {},
   "outputs": [],
   "source": [
    "# do sum pooling to the title, abstract and subsections\n",
    "for f in ['title', 'abstract', 'subsections']:\n",
    "    data[f + '_embedding'] = data[f + '_token'].apply(lambda l: np.sum([wv[t] for t in l], axis=0))"
   ]
  },
  {
   "cell_type": "code",
   "execution_count": 108,
   "metadata": {},
   "outputs": [],
   "source": [
    "for f in ['title', 'abstract', 'subsections']:\n",
    "    data[f + '_embedding'] = data[f + '_embedding'].apply(lambda x: ' '.join(x.astype('str')))"
   ]
  },
  {
   "cell_type": "code",
   "execution_count": 112,
   "metadata": {},
   "outputs": [],
   "source": [
    "data[['docno', 'title_embedding', 'abstract_embedding', 'subsections_embedding']].to_csv('./word2vec_embedding_df.csv', index=False)"
   ]
  }
 ],
 "metadata": {
  "interpreter": {
   "hash": "31f937b0387f2f383e79417c9755b7e0b4752af053b5b4b37428213cd1febd72"
  },
  "kernelspec": {
   "display_name": "Python 3.9.7 64-bit ('base': conda)",
   "language": "python",
   "name": "python3"
  },
  "language_info": {
   "codemirror_mode": {
    "name": "ipython",
    "version": 3
   },
   "file_extension": ".py",
   "mimetype": "text/x-python",
   "name": "python",
   "nbconvert_exporter": "python",
   "pygments_lexer": "ipython3",
   "version": "3.9.7"
  },
  "orig_nbformat": 4
 },
 "nbformat": 4,
 "nbformat_minor": 2
}
